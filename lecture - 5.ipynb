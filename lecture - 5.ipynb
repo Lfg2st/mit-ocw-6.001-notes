{
 "cells": [
  {
   "attachments": {},
   "cell_type": "markdown",
   "metadata": {},
   "source": [
    "## Lecture 5: Tuples, Lists, Aliasing, Mutability, and cloning"
   ]
  },
  {
   "attachments": {},
   "cell_type": "markdown",
   "metadata": {},
   "source": [
    "### What is a Tuple:\n",
    "- an ordered sequence of elements, can mix element types\n",
    "- cannot change the element values - immutable\n",
    "- represented with round brackets\n"
   ]
  },
  {
   "cell_type": "code",
   "execution_count": 3,
   "metadata": {},
   "outputs": [
    {
     "name": "stdout",
     "output_type": "stream",
     "text": [
      "\n",
      "mixed element dtypes: (2, 'MIT', 2.1, True)\n",
      "output_tuple: (99, False, 'OCW', 3.14159, 2, 'MIT', 2.1, True)\n",
      "empty tuple : ()   \n",
      "    \n"
     ]
    }
   ],
   "source": [
    "# empty tuple\n",
    "te = ()\n",
    "\n",
    "# mixed element dtypes \n",
    "t = (2, 'MIT', 2.1, True)\n",
    "\n",
    "# appending tuples\n",
    "add_this_to_t = (99, False, 'OCW', 3.14159)\n",
    "output_tuple = add_this_to_t + t\n",
    "\n",
    "\n",
    "print(\n",
    "    f'''\n",
    "mixed element dtypes: {t}\n",
    "output_tuple: {output_tuple}\n",
    "empty tuple : {te}   \n",
    "    '''\n",
    ")"
   ]
  },
  {
   "cell_type": "code",
   "execution_count": 4,
   "metadata": {},
   "outputs": [],
   "source": [
    "# how are tuples useful\n",
    "# swapping items\n",
    "x = 2\n",
    "y = 3\n",
    "(x, y) = (y, x)"
   ]
  },
  {
   "cell_type": "code",
   "execution_count": 5,
   "metadata": {},
   "outputs": [
    {
     "data": {
      "text/plain": [
       "3"
      ]
     },
     "execution_count": 5,
     "metadata": {},
     "output_type": "execute_result"
    }
   ],
   "source": [
    "x"
   ]
  },
  {
   "cell_type": "code",
   "execution_count": 6,
   "metadata": {},
   "outputs": [
    {
     "data": {
      "text/plain": [
       "2"
      ]
     },
     "execution_count": 6,
     "metadata": {},
     "output_type": "execute_result"
    }
   ],
   "source": [
    "y"
   ]
  },
  {
   "cell_type": "code",
   "execution_count": 7,
   "metadata": {},
   "outputs": [],
   "source": [
    "# returning multiple items from a function\n",
    "def randomFunc(value_1, value_2):\n",
    "    value_3 = value_1 + value_2 \n",
    "    value_4 = value_1 * value_2\n",
    "    return (value_3, value_4)\n",
    "\n",
    "(value_3, value_4) = randomFunc(1, 2)"
   ]
  },
  {
   "cell_type": "code",
   "execution_count": 9,
   "metadata": {},
   "outputs": [
    {
     "data": {
      "text/plain": [
       "(3, 2)"
      ]
     },
     "execution_count": 9,
     "metadata": {},
     "output_type": "execute_result"
    }
   ],
   "source": [
    "value_3, value_4"
   ]
  },
  {
   "attachments": {},
   "cell_type": "markdown",
   "metadata": {},
   "source": [
    "### Tuple manipulation"
   ]
  },
  {
   "cell_type": "code",
   "execution_count": 11,
   "metadata": {},
   "outputs": [
    {
     "name": "stdout",
     "output_type": "stream",
     "text": [
      "(4, 3, 10)\n"
     ]
    }
   ],
   "source": [
    "def tuple_separation(tup):\n",
    "    \"\"\"\n",
    "    Separates the integers and strings from a tuple of tuples.\n",
    "    \n",
    "    Args:\n",
    "        tup (tuple): A tuple of tuples in the format (int, string), (int, string), ...\n",
    "        \n",
    "    Returns:\n",
    "        tuple: A tuple containing the number of words (strings), the minimum integer, and the maximum integer.\n",
    "    \"\"\"\n",
    "    nums = ()\n",
    "    words = ()\n",
    "    for elem in tup:\n",
    "        nums = nums + (elem[0],)\n",
    "        words =  words + (elem[1],)\n",
    "    num_words = len(words)\n",
    "    min_n = min(nums)\n",
    "    max_n = max(nums)\n",
    "    return (num_words, min_n, max_n)\n",
    "\n",
    "# Test data\n",
    "data = (\n",
    "    (10, \"Hello\"),\n",
    "    (5, \"World\"),\n",
    "    (8, \"Python\"),\n",
    "    (3, \"Programming\")\n",
    ")\n",
    "\n",
    "result = tuple_separation(data)\n",
    "print(result)\n"
   ]
  },
  {
   "attachments": {},
   "cell_type": "markdown",
   "metadata": {},
   "source": [
    "### What is a list \n",
    "- A list is almost exactly like a tuple but they are mutable in nature\n"
   ]
  },
  {
   "cell_type": "code",
   "execution_count": 12,
   "metadata": {},
   "outputs": [],
   "source": [
    "random_list = [\n",
    "    1, 'hello world', 'a', 1.2, True    \n",
    "]"
   ]
  },
  {
   "cell_type": "code",
   "execution_count": 13,
   "metadata": {},
   "outputs": [],
   "source": [
    "# changing the value of an item in the list\n",
    "random_list[4] = False"
   ]
  },
  {
   "cell_type": "code",
   "execution_count": 14,
   "metadata": {},
   "outputs": [
    {
     "data": {
      "text/plain": [
       "[1, 'hello world', 'a', 1.2, False]"
      ]
     },
     "execution_count": 14,
     "metadata": {},
     "output_type": "execute_result"
    }
   ],
   "source": [
    "random_list"
   ]
  },
  {
   "cell_type": "code",
   "execution_count": 15,
   "metadata": {},
   "outputs": [],
   "source": [
    "random_list.append('appended element')"
   ]
  },
  {
   "cell_type": "code",
   "execution_count": 16,
   "metadata": {},
   "outputs": [],
   "source": [
    "# deleting elements from a list\n",
    "random_list.remove('hello world')"
   ]
  },
  {
   "cell_type": "code",
   "execution_count": 17,
   "metadata": {},
   "outputs": [
    {
     "data": {
      "text/plain": [
       "[1, 'a', 1.2, False, 'appended element']"
      ]
     },
     "execution_count": 17,
     "metadata": {},
     "output_type": "execute_result"
    }
   ],
   "source": [
    "random_list"
   ]
  },
  {
   "cell_type": "code",
   "execution_count": 20,
   "metadata": {},
   "outputs": [
    {
     "data": {
      "text/plain": [
       "'appended element'"
      ]
     },
     "execution_count": 20,
     "metadata": {},
     "output_type": "execute_result"
    }
   ],
   "source": [
    "random_list.pop()"
   ]
  },
  {
   "cell_type": "code",
   "execution_count": 21,
   "metadata": {},
   "outputs": [
    {
     "data": {
      "text/plain": [
       "['a', 1.2, False]"
      ]
     },
     "execution_count": 21,
     "metadata": {},
     "output_type": "execute_result"
    }
   ],
   "source": [
    "random_list"
   ]
  },
  {
   "cell_type": "code",
   "execution_count": 22,
   "metadata": {},
   "outputs": [],
   "source": [
    "del(random_list[0])"
   ]
  },
  {
   "cell_type": "code",
   "execution_count": 23,
   "metadata": {},
   "outputs": [
    {
     "data": {
      "text/plain": [
       "[1.2, False]"
      ]
     },
     "execution_count": 23,
     "metadata": {},
     "output_type": "execute_result"
    }
   ],
   "source": [
    "random_list"
   ]
  },
  {
   "cell_type": "code",
   "execution_count": 25,
   "metadata": {},
   "outputs": [
    {
     "name": "stdout",
     "output_type": "stream",
     "text": [
      "\n",
      "Whatever changes are made to the list x, these changes are made to y\n",
      "      \n",
      "x : [1, 2, 3, 4]\n",
      "y : [1, 2, 3, 4]\n",
      "\n",
      "\n",
      "\n",
      "c : [1, 2, 3, 4, 6]\n",
      "x : [1, 2, 3, 4]\n",
      "\n",
      "\n"
     ]
    }
   ],
   "source": [
    "# alias and cloning\n",
    "x = [1, 2, 3]\n",
    "y = x\n",
    "y.append(4)\n",
    "\n",
    "print(f'''\n",
    "Whatever changes are made to the list x, these changes are made to y\n",
    "      \n",
    "x : {x}\n",
    "y : {y}\n",
    "\n",
    "''')\n",
    "\n",
    "# to prevent this connectibality, one should slone the list\n",
    "c = x[:]\n",
    "c.append(6)\n",
    "print(f'''\n",
    "c : {c}\n",
    "x : {x}\n",
    "\n",
    "''')"
   ]
  },
  {
   "cell_type": "code",
   "execution_count": 29,
   "metadata": {},
   "outputs": [
    {
     "name": "stdout",
     "output_type": "stream",
     "text": [
      "['orange', 'red', 'yellow']\n",
      "['grey', 'green', 'blue']\n",
      "['blue', 'green', 'grey']\n"
     ]
    }
   ],
   "source": [
    "# <list>.sort() mutates the list itself and returns nothing\n",
    "warm = ['red', 'yellow', 'orange']\n",
    "warm.sort()\n",
    "print(warm)\n",
    "\n",
    "# sorted(<list>) return the list but sorted. it needs to be assigned to a variable and does not mutate the original list\n",
    "cool = ['grey', 'green', 'blue']\n",
    "sorted_cool = sorted(cool)\n",
    "print(cool)\n",
    "print(sorted_cool)"
   ]
  },
  {
   "cell_type": "code",
   "execution_count": null,
   "metadata": {},
   "outputs": [],
   "source": []
  }
 ],
 "metadata": {
  "kernelspec": {
   "display_name": "myenv",
   "language": "python",
   "name": "python3"
  },
  "language_info": {
   "codemirror_mode": {
    "name": "ipython",
    "version": 3
   },
   "file_extension": ".py",
   "mimetype": "text/x-python",
   "name": "python",
   "nbconvert_exporter": "python",
   "pygments_lexer": "ipython3",
   "version": "3.11.3"
  },
  "orig_nbformat": 4
 },
 "nbformat": 4,
 "nbformat_minor": 2
}
