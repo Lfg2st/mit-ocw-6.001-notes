{
 "cells": [
  {
   "attachments": {},
   "cell_type": "markdown",
   "metadata": {},
   "source": [
    "## Lecture 3 - String Manipulation, Guess and Check, Approximations, Bisection"
   ]
  },
  {
   "cell_type": "code",
   "execution_count": 1,
   "metadata": {},
   "outputs": [
    {
     "data": {
      "text/plain": [
       "11"
      ]
     },
     "execution_count": 1,
     "metadata": {},
     "output_type": "execute_result"
    }
   ],
   "source": [
    "# the len function\n",
    "len('lorum ipsum')"
   ]
  },
  {
   "cell_type": "code",
   "execution_count": 4,
   "metadata": {},
   "outputs": [
    {
     "name": "stdout",
     "output_type": "stream",
     "text": [
      "\n",
      "    l,\n",
      "    o,\n",
      "    m,\n",
      "    orum,\n",
      "    ou,\n",
      "    usp\n",
      "    \n"
     ]
    }
   ],
   "source": [
    "# using square brackets to perform indexing\n",
    "random_string = 'lorum ipsum'\n",
    "print(f'''\n",
    "    {random_string[0]},\n",
    "    {random_string[1]},\n",
    "    {random_string[-1]},\n",
    "    {random_string[1:5]},\n",
    "    {random_string[1:5:2]},\n",
    "    {random_string[-2:-5:-1]}\n",
    "    '''\n",
    ")"
   ]
  },
  {
   "cell_type": "code",
   "execution_count": null,
   "metadata": {},
   "outputs": [],
   "source": []
  }
 ],
 "metadata": {
  "kernelspec": {
   "display_name": "myenv",
   "language": "python",
   "name": "python3"
  },
  "language_info": {
   "codemirror_mode": {
    "name": "ipython",
    "version": 3
   },
   "file_extension": ".py",
   "mimetype": "text/x-python",
   "name": "python",
   "nbconvert_exporter": "python",
   "pygments_lexer": "ipython3",
   "version": "3.11.3"
  },
  "orig_nbformat": 4
 },
 "nbformat": 4,
 "nbformat_minor": 2
}
