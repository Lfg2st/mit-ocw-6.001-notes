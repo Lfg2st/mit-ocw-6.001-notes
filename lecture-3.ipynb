{
 "cells": [
  {
   "attachments": {},
   "cell_type": "markdown",
   "metadata": {},
   "source": [
    "## Lecture 3 - String Manipulation, Guess and Check, Approximations, Bisection"
   ]
  },
  {
   "cell_type": "code",
   "execution_count": 1,
   "metadata": {},
   "outputs": [
    {
     "data": {
      "text/plain": [
       "11"
      ]
     },
     "execution_count": 1,
     "metadata": {},
     "output_type": "execute_result"
    }
   ],
   "source": [
    "# the len function\n",
    "len('lorum ipsum')"
   ]
  },
  {
   "cell_type": "code",
   "execution_count": 4,
   "metadata": {},
   "outputs": [
    {
     "name": "stdout",
     "output_type": "stream",
     "text": [
      "\n",
      "    l,\n",
      "    o,\n",
      "    m,\n",
      "    orum,\n",
      "    ou,\n",
      "    usp\n",
      "    \n"
     ]
    }
   ],
   "source": [
    "# using square brackets to perform indexing\n",
    "random_string = 'lorum ipsum'\n",
    "print(f'''\n",
    "    {random_string[0]},\n",
    "    {random_string[1]},\n",
    "    {random_string[-1]},\n",
    "    {random_string[1:5]},\n",
    "    {random_string[1:5:2]},\n",
    "    {random_string[-2:-5:-1]}\n",
    "    '''\n",
    ")"
   ]
  },
  {
   "cell_type": "code",
   "execution_count": 3,
   "metadata": {},
   "outputs": [
    {
     "name": "stdout",
     "output_type": "stream",
     "text": [
      "I love u!\n"
     ]
    }
   ],
   "source": [
    "another_random_string = 'abcdeghiu'\n",
    "if \"i\" in another_random_string and 'u' in another_random_string:\n",
    "    print('I love u!')"
   ]
  },
  {
   "cell_type": "code",
   "execution_count": 7,
   "metadata": {},
   "outputs": [
    {
     "name": "stdout",
     "output_type": "stream",
     "text": [
      "Give me a C! C\n",
      "Give me a h! h\n",
      "Give me an a! a\n",
      "Give me a r! r\n",
      "Give me a l! l\n",
      "Give me an i! i\n",
      "Give me an e! e\n",
      "Charlie\n",
      "Charlie\n",
      "Charlie\n",
      "Charlie\n",
      "Charlie\n"
     ]
    }
   ],
   "source": [
    "word = input('Give me a random word:')\n",
    "characters = ['A', 'a', 'E', 'e', 'I', 'i', 'O', 'o', 'U', 'u']\n",
    "excitement = input(f'How excited are you about {word}:')\n",
    "word_list = list(word)\n",
    "for item in word_list:\n",
    "    if item in characters:\n",
    "        print(f'Give me an {item}! {item}')\n",
    "    else:\n",
    "        print(f'Give me a {item}! {item}')\n",
    "\n",
    "for i in range(1, int(excitement) + 1):\n",
    "    print(word)"
   ]
  },
  {
   "cell_type": "code",
   "execution_count": 12,
   "metadata": {},
   "outputs": [
    {
     "name": "stdout",
     "output_type": "stream",
     "text": [
      "Your number is not a perfect cube but a close guess could be 1\n"
     ]
    }
   ],
   "source": [
    "# guess and check - cube root \n",
    "cube = int(input('Please enter the number you wish to find the cube root for:'))\n",
    "\n",
    "for item in range(1, cube + 1):\n",
    "    if item**3 == cube:\n",
    "        print(f'The cube root is {item}')\n",
    "        break\n",
    "    elif item**3 >= cube:\n",
    "        if (cube - ((item - 1) **3)) <= (item ** 3) - cube:\n",
    "            print(f'Your number is not a perfect cube but a close guess could be {item - 1}')\n",
    "        else:\n",
    "            print(f'Your nunber is not a perfect cube but a close guess could be {item}')\n",
    "        break\n",
    "    else:\n",
    "        pass"
   ]
  },
  {
   "attachments": {},
   "cell_type": "markdown",
   "metadata": {},
   "source": [
    "A more accurate solution of the aforementioned problem"
   ]
  },
  {
   "cell_type": "code",
   "execution_count": 37,
   "metadata": {},
   "outputs": [
    {
     "name": "stdout",
     "output_type": "stream",
     "text": [
      "-3\n"
     ]
    }
   ],
   "source": [
    "import math\n",
    "typeNegative = False\n",
    "cube = float(input('Please enter the number whose cube root you wish to find:'))\n",
    "if cube < 0:\n",
    "    cube = abs(cube)\n",
    "    typeNegative = True\n",
    "epsilon = float(input('Please enter how close the estimate should be:'))\n",
    "guess = 0\n",
    "\n",
    "while True:\n",
    "    if (cube - guess**3) <= epsilon and guess <= cube:\n",
    "        if math.floor(guess)**3 == cube:\n",
    "            if typeNegative:\n",
    "                print((f'-{math.floor(guess)}'))\n",
    "            else:\n",
    "                print(math.floor(guess))\n",
    "            break\n",
    "        else:\n",
    "            if typeNegative:\n",
    "                print(f'-{guess}')\n",
    "            else:\n",
    "                print(guess)\n",
    "            break\n",
    "    guess += epsilon"
   ]
  },
  {
   "attachments": {},
   "cell_type": "markdown",
   "metadata": {},
   "source": [
    "A much faster solution would be to use bisection search"
   ]
  },
  {
   "cell_type": "code",
   "execution_count": 44,
   "metadata": {},
   "outputs": [
    {
     "name": "stdout",
     "output_type": "stream",
     "text": [
      "2.1515900470729594\n"
     ]
    }
   ],
   "source": [
    "cube = float(input(\"Please enter the number whose cube root you wish to find:\"))\n",
    "epsilon = float(input(\"Please enter how close the estimate should be:\"))\n",
    "guess = cube\n",
    "while True:\n",
    "    if  abs((guess ** 3) - cube) <= epsilon and guess <= cube:\n",
    "        print(guess)\n",
    "        break\n",
    "    elif guess ** 3 > cube:\n",
    "        guess = guess/2\n",
    "    elif guess ** 3 < cube:\n",
    "        guess = guess + (0.5 * guess)"
   ]
  },
  {
   "cell_type": "code",
   "execution_count": null,
   "metadata": {},
   "outputs": [],
   "source": []
  }
 ],
 "metadata": {
  "kernelspec": {
   "display_name": "myenv",
   "language": "python",
   "name": "python3"
  },
  "language_info": {
   "codemirror_mode": {
    "name": "ipython",
    "version": 3
   },
   "file_extension": ".py",
   "mimetype": "text/x-python",
   "name": "python",
   "nbconvert_exporter": "python",
   "pygments_lexer": "ipython3",
   "version": "3.11.3"
  },
  "orig_nbformat": 4
 },
 "nbformat": 4,
 "nbformat_minor": 2
}
